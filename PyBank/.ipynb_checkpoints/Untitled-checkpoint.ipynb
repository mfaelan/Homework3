{
 "cells": [
  {
   "cell_type": "code",
   "execution_count": null,
   "id": "6774278f-ea00-4164-9867-13d5f1a3d56e",
   "metadata": {},
   "outputs": [],
   "source": [
    "#PyBank"
   ]
  },
  {
   "cell_type": "code",
   "execution_count": 39,
   "id": "88989e49-2eb2-4c19-b7d3-ed720677f549",
   "metadata": {},
   "outputs": [
    {
     "name": "stdout",
     "output_type": "stream",
     "text": [
      "Header: Date,Profit/Losses\n",
      "\n",
      "Financial Analysis\n",
      "....................................................................................\n",
      "total months: 86\n",
      "Total: $22564198\n",
      "Average change: $-8311.105882352942\n",
      "Greatest Increase in Profits: Aug-16 $1862002\n",
      "Greatest Decrease in Profits: Feb-14 $-1825558\n"
     ]
    }
   ],
   "source": [
    "import os\n",
    "import csv\n",
    "\n",
    "#path to data in resource folder\n",
    "pybank_csv = os.path.join('.', 'Resources', 'budget_data.csv')\n",
    "\n",
    "with open(pybank_csv, newline=\"\") as csvfile:\n",
    "    csvreader = csv.reader(csvfile, delimiter=\",\")\n",
    "    csv_header = next(csvfile)\n",
    "    # skip header row\n",
    "    print(f\"Header: {csv_header}\")\n",
    "\n",
    "    # find net amount of profit and loss\n",
    "    P = []\n",
    "    months = []\n",
    "\n",
    "    #read through each row of data after header\n",
    "    for rows in csvreader:\n",
    "        P.append(int(rows[1]))\n",
    "        months.append(rows[0])\n",
    "\n",
    "    # find revenue change\n",
    "    revenue_change = []\n",
    "\n",
    "    for x in range(1, len(P)):\n",
    "        revenue_change.append((int(P[x]) - int(P[x-1])))\n",
    "    \n",
    "    # calculate average revenue change\n",
    "    revenue_average = sum(revenue_change) / len(revenue_change)\n",
    "    \n",
    "    # calculate total length of months\n",
    "    total_months = len(months)\n",
    "\n",
    "    # greatest increase in revenue\n",
    "    greatest_increase = max(revenue_change)\n",
    "    # greatest decrease in revenue\n",
    "    greatest_decrease = min(revenue_change)\n",
    "\n",
    "\n",
    "    # print the Results\n",
    "    print(\"Financial Analysis\")\n",
    "    print(\"....................................................................................\")\n",
    "    print(\"total months: \" + str(total_months))\n",
    "    print(\"Total: \" + \"$\" + str(sum(P)))\n",
    "    print(\"Average change: \" + \"$\" + str(revenue_average))\n",
    "    print(\"Greatest Increase in Profits: \" + str(months[revenue_change.index(max(revenue_change))+1]) + \" \" + \"$\" + str(greatest_increase))\n",
    "    print(\"Greatest Decrease in Profits: \" + str(months[revenue_change.index(min(revenue_change))+1]) + \" \" + \"$\" + str(greatest_decrease))\n",
    "\n",
    "    # output to a text file\n",
    "    file = open(\"output.txt\",\"w\")\n",
    "    file.write(\"Financial Analysis\" + \"\\n\")\n",
    "    file.write(\"....................................................................................\" + \"\\n\")\n",
    "    file.write(\"total months: \" + str(total_months) + \"\\n\")\n",
    "    file.write(\"Total: \" + \"$\" + str(sum(P)) + \"\\n\")\n",
    "    file.write(\"Average change: \" + \"$\" + str(revenue_average) + \"\\n\")\n",
    "    file.write(\"Greatest Increase in Profits: \" + str(months[revenue_change.index(max(revenue_change))+1]) + \" \" + \"$\" + str(greatest_increase) + \"\\n\")\n",
    "    file.write(\"Greatest Decrease in Profits: \" + str(months[revenue_change.index(min(revenue_change))+1]) + \" \" + \"$\" + str(greatest_decrease) + \"\\n\")\n",
    "    file.close()"
   ]
  }
 ],
 "metadata": {
  "kernelspec": {
   "display_name": "Python 3 (ipykernel)",
   "language": "python",
   "name": "python3"
  },
  "language_info": {
   "codemirror_mode": {
    "name": "ipython",
    "version": 3
   },
   "file_extension": ".py",
   "mimetype": "text/x-python",
   "name": "python",
   "nbconvert_exporter": "python",
   "pygments_lexer": "ipython3",
   "version": "3.11.7"
  }
 },
 "nbformat": 4,
 "nbformat_minor": 5
}
