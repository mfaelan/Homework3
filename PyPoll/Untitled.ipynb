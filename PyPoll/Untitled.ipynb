{
 "cells": [
  {
   "cell_type": "code",
   "execution_count": 5,
   "id": "b08c4ac5-3c4a-46ca-a762-ad918001237d",
   "metadata": {},
   "outputs": [
    {
     "name": "stdout",
     "output_type": "stream",
     "text": [
      ".\\Resources\\election_data.csv\n"
     ]
    }
   ],
   "source": [
    "#PyPoll\n",
    "\n",
    "import os\n",
    "import csv\n",
    "\n",
    "#path to data in resource folder\n",
    "pypoll_csv = os.path.join('.', 'Resources', 'election_data.csv')\n"
   ]
  },
  {
   "cell_type": "code",
   "execution_count": 4,
   "id": "1f7b3fe1-cb1b-49a7-ad3d-2dc963284fc5",
   "metadata": {},
   "outputs": [
    {
     "name": "stdout",
     "output_type": "stream",
     "text": [
      "Header: Ballot ID,County,Candidate\n",
      "\n"
     ]
    }
   ],
   "source": [
    "with open(pypoll_csv, newline=\"\") as csvfile:\n",
    "    csvreader = csv.reader(csvfile, delimiter=\",\")\n",
    "    csv_header = next(csvfile)\n",
    "    # skip header row\n",
    "    print(f\"Header: {csv_header}\")"
   ]
  },
  {
   "cell_type": "code",
   "execution_count": null,
   "id": "dd01e1c5-6839-4968-b0f3-bfacb86870cb",
   "metadata": {},
   "outputs": [],
   "source": []
  },
  {
   "cell_type": "code",
   "execution_count": 16,
   "id": "5f9513e0-ee12-45e1-9f9f-7c63cbb85d59",
   "metadata": {},
   "outputs": [
    {
     "name": "stdout",
     "output_type": "stream",
     "text": [
      "Header: Ballot ID,County,Candidate\n",
      "\n",
      "Election Results\n",
      "...................................................................\n",
      "Raymon Anthony Doane: 3.1392087333079077% (11606)\n",
      "Charles Casper Stockham: 23.04854332167558% (85213)\n",
      "Diana DeGette: 73.81224794501652% (272892)\n",
      "....................................\n",
      "Winner:Diana DeGette\n"
     ]
    }
   ],
   "source": [
    "#PyPoll\n",
    "\n",
    "import os\n",
    "import csv\n",
    "\n",
    "#path to data in resource folder\n",
    "pypoll_csv = os.path.join('.', 'Resources', 'election_data.csv')\n",
    "\n",
    "with open(pypoll_csv, newline=\"\") as csvfile:\n",
    "    csvreader = csv.reader(csvfile, delimiter=\",\")\n",
    "    csv_header = next(csvfile)\n",
    "    # skip header row\n",
    "    print(f\"Header: {csv_header}\")\n",
    "\n",
    "count = 0\n",
    "candidatelist = []\n",
    "unique_candidate = []\n",
    "vote_count = []\n",
    "vote_percent = []\n",
    "\n",
    "# Open the CSV using the set path PyPollcsv\n",
    "\n",
    "with open(pypoll_csv, newline=\"\") as csvfile:\n",
    "    csvreader = csv.reader(csvfile, delimiter=\",\")\n",
    "    csv_header = next(csvreader)\n",
    "    # Conduct the ask\n",
    "    for row in csvreader:\n",
    "        # Count the total number of votes\n",
    "        count = count + 1\n",
    "        # Set the candidate names to candidatelist\n",
    "        candidatelist.append(row[2])\n",
    "        # Create a set from the candidatelist to get the unique candidate names\n",
    "    for x in set(candidatelist):\n",
    "        unique_candidate.append(x)\n",
    "        # y is the total number of votes per candidate\n",
    "        y = candidatelist.count(x)\n",
    "        vote_count.append(y)\n",
    "        # z is the percent of total votes per candidate\n",
    "        z = (y/count)*100\n",
    "        vote_percent.append(z)\n",
    "        \n",
    "    winning_vote_count = max(vote_count)\n",
    "    winner = unique_candidate[vote_count.index(winning_vote_count)]\n",
    "\n",
    "    \n",
    "    # print the Results\n",
    "    print(\"Election Results\")\n",
    "    print(\"...................................................................\")\n",
    "    for i in range(len(unique_candidate)):\n",
    "            print(unique_candidate[i] + \": \" + str(vote_percent[i]) +\"% (\" + str(vote_count[i])+ \")\")\n",
    "    print(\"....................................\")\n",
    "    print(\"Winner:\" + winner )\n",
    "\n",
    "# output to a text file\n",
    "    file = open(\"output.txt\",\"w\")\n",
    "    file.write(\"Election Results\" + \"\\n\")\n",
    "    file.write(\"..............................................................\" + \"\\n\")\n",
    "    for i in range(len(unique_candidate)):\n",
    "            file.write(unique_candidate[i] + \": \" + str(vote_percent[i]) +\"% (\" + str(vote_count[i])+ \")\" + \"\\n\")\n",
    "    file.write(\"Winner:\" + winner + \"\\n\")\n",
    "    file.close()"
   ]
  },
  {
   "cell_type": "code",
   "execution_count": null,
   "id": "08fe4749-b3c2-40f7-9454-c689dfa07e7e",
   "metadata": {},
   "outputs": [],
   "source": []
  }
 ],
 "metadata": {
  "kernelspec": {
   "display_name": "Python 3 (ipykernel)",
   "language": "python",
   "name": "python3"
  },
  "language_info": {
   "codemirror_mode": {
    "name": "ipython",
    "version": 3
   },
   "file_extension": ".py",
   "mimetype": "text/x-python",
   "name": "python",
   "nbconvert_exporter": "python",
   "pygments_lexer": "ipython3",
   "version": "3.11.7"
  }
 },
 "nbformat": 4,
 "nbformat_minor": 5
}
